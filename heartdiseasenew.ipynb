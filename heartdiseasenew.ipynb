{
 "cells": [
  {
   "cell_type": "code",
   "execution_count": 1,
   "id": "ff8ae848-9f8b-4508-a54d-39387c137e84",
   "metadata": {},
   "outputs": [],
   "source": [
    "#Importing Libraries\n",
    "\n",
    "import numpy as np\n",
    "import pandas as pd\n",
    "import matplotlib.pyplot as plt\n",
    "import seaborn as sns"
   ]
  },
  {
   "cell_type": "code",
   "execution_count": 2,
   "id": "8ae15c0a-4fb8-4781-ba57-35da7b794d78",
   "metadata": {},
   "outputs": [
    {
     "data": {
      "text/html": [
       "<div>\n",
       "<style scoped>\n",
       "    .dataframe tbody tr th:only-of-type {\n",
       "        vertical-align: middle;\n",
       "    }\n",
       "\n",
       "    .dataframe tbody tr th {\n",
       "        vertical-align: top;\n",
       "    }\n",
       "\n",
       "    .dataframe thead th {\n",
       "        text-align: right;\n",
       "    }\n",
       "</style>\n",
       "<table border=\"1\" class=\"dataframe\">\n",
       "  <thead>\n",
       "    <tr style=\"text-align: right;\">\n",
       "      <th></th>\n",
       "      <th>age</th>\n",
       "      <th>sex</th>\n",
       "      <th>cp</th>\n",
       "      <th>trestbps</th>\n",
       "      <th>chol</th>\n",
       "      <th>fbs</th>\n",
       "      <th>restecg</th>\n",
       "      <th>thalach</th>\n",
       "      <th>exang</th>\n",
       "      <th>oldpeak</th>\n",
       "      <th>slope</th>\n",
       "      <th>ca</th>\n",
       "      <th>thal</th>\n",
       "      <th>target</th>\n",
       "    </tr>\n",
       "  </thead>\n",
       "  <tbody>\n",
       "    <tr>\n",
       "      <th>0</th>\n",
       "      <td>52</td>\n",
       "      <td>1</td>\n",
       "      <td>0</td>\n",
       "      <td>125</td>\n",
       "      <td>212</td>\n",
       "      <td>0</td>\n",
       "      <td>1</td>\n",
       "      <td>168</td>\n",
       "      <td>0</td>\n",
       "      <td>1.0</td>\n",
       "      <td>2</td>\n",
       "      <td>2</td>\n",
       "      <td>3</td>\n",
       "      <td>0</td>\n",
       "    </tr>\n",
       "    <tr>\n",
       "      <th>1</th>\n",
       "      <td>53</td>\n",
       "      <td>1</td>\n",
       "      <td>0</td>\n",
       "      <td>140</td>\n",
       "      <td>203</td>\n",
       "      <td>1</td>\n",
       "      <td>0</td>\n",
       "      <td>155</td>\n",
       "      <td>1</td>\n",
       "      <td>3.1</td>\n",
       "      <td>0</td>\n",
       "      <td>0</td>\n",
       "      <td>3</td>\n",
       "      <td>0</td>\n",
       "    </tr>\n",
       "    <tr>\n",
       "      <th>2</th>\n",
       "      <td>70</td>\n",
       "      <td>1</td>\n",
       "      <td>0</td>\n",
       "      <td>145</td>\n",
       "      <td>174</td>\n",
       "      <td>0</td>\n",
       "      <td>1</td>\n",
       "      <td>125</td>\n",
       "      <td>1</td>\n",
       "      <td>2.6</td>\n",
       "      <td>0</td>\n",
       "      <td>0</td>\n",
       "      <td>3</td>\n",
       "      <td>0</td>\n",
       "    </tr>\n",
       "    <tr>\n",
       "      <th>3</th>\n",
       "      <td>61</td>\n",
       "      <td>1</td>\n",
       "      <td>0</td>\n",
       "      <td>148</td>\n",
       "      <td>203</td>\n",
       "      <td>0</td>\n",
       "      <td>1</td>\n",
       "      <td>161</td>\n",
       "      <td>0</td>\n",
       "      <td>0.0</td>\n",
       "      <td>2</td>\n",
       "      <td>1</td>\n",
       "      <td>3</td>\n",
       "      <td>0</td>\n",
       "    </tr>\n",
       "    <tr>\n",
       "      <th>4</th>\n",
       "      <td>62</td>\n",
       "      <td>0</td>\n",
       "      <td>0</td>\n",
       "      <td>138</td>\n",
       "      <td>294</td>\n",
       "      <td>1</td>\n",
       "      <td>1</td>\n",
       "      <td>106</td>\n",
       "      <td>0</td>\n",
       "      <td>1.9</td>\n",
       "      <td>1</td>\n",
       "      <td>3</td>\n",
       "      <td>2</td>\n",
       "      <td>0</td>\n",
       "    </tr>\n",
       "    <tr>\n",
       "      <th>...</th>\n",
       "      <td>...</td>\n",
       "      <td>...</td>\n",
       "      <td>...</td>\n",
       "      <td>...</td>\n",
       "      <td>...</td>\n",
       "      <td>...</td>\n",
       "      <td>...</td>\n",
       "      <td>...</td>\n",
       "      <td>...</td>\n",
       "      <td>...</td>\n",
       "      <td>...</td>\n",
       "      <td>...</td>\n",
       "      <td>...</td>\n",
       "      <td>...</td>\n",
       "    </tr>\n",
       "    <tr>\n",
       "      <th>1020</th>\n",
       "      <td>59</td>\n",
       "      <td>1</td>\n",
       "      <td>1</td>\n",
       "      <td>140</td>\n",
       "      <td>221</td>\n",
       "      <td>0</td>\n",
       "      <td>1</td>\n",
       "      <td>164</td>\n",
       "      <td>1</td>\n",
       "      <td>0.0</td>\n",
       "      <td>2</td>\n",
       "      <td>0</td>\n",
       "      <td>2</td>\n",
       "      <td>1</td>\n",
       "    </tr>\n",
       "    <tr>\n",
       "      <th>1021</th>\n",
       "      <td>60</td>\n",
       "      <td>1</td>\n",
       "      <td>0</td>\n",
       "      <td>125</td>\n",
       "      <td>258</td>\n",
       "      <td>0</td>\n",
       "      <td>0</td>\n",
       "      <td>141</td>\n",
       "      <td>1</td>\n",
       "      <td>2.8</td>\n",
       "      <td>1</td>\n",
       "      <td>1</td>\n",
       "      <td>3</td>\n",
       "      <td>0</td>\n",
       "    </tr>\n",
       "    <tr>\n",
       "      <th>1022</th>\n",
       "      <td>47</td>\n",
       "      <td>1</td>\n",
       "      <td>0</td>\n",
       "      <td>110</td>\n",
       "      <td>275</td>\n",
       "      <td>0</td>\n",
       "      <td>0</td>\n",
       "      <td>118</td>\n",
       "      <td>1</td>\n",
       "      <td>1.0</td>\n",
       "      <td>1</td>\n",
       "      <td>1</td>\n",
       "      <td>2</td>\n",
       "      <td>0</td>\n",
       "    </tr>\n",
       "    <tr>\n",
       "      <th>1023</th>\n",
       "      <td>50</td>\n",
       "      <td>0</td>\n",
       "      <td>0</td>\n",
       "      <td>110</td>\n",
       "      <td>254</td>\n",
       "      <td>0</td>\n",
       "      <td>0</td>\n",
       "      <td>159</td>\n",
       "      <td>0</td>\n",
       "      <td>0.0</td>\n",
       "      <td>2</td>\n",
       "      <td>0</td>\n",
       "      <td>2</td>\n",
       "      <td>1</td>\n",
       "    </tr>\n",
       "    <tr>\n",
       "      <th>1024</th>\n",
       "      <td>54</td>\n",
       "      <td>1</td>\n",
       "      <td>0</td>\n",
       "      <td>120</td>\n",
       "      <td>188</td>\n",
       "      <td>0</td>\n",
       "      <td>1</td>\n",
       "      <td>113</td>\n",
       "      <td>0</td>\n",
       "      <td>1.4</td>\n",
       "      <td>1</td>\n",
       "      <td>1</td>\n",
       "      <td>3</td>\n",
       "      <td>0</td>\n",
       "    </tr>\n",
       "  </tbody>\n",
       "</table>\n",
       "<p>1025 rows × 14 columns</p>\n",
       "</div>"
      ],
      "text/plain": [
       "      age  sex  cp  trestbps  chol  fbs  restecg  thalach  exang  oldpeak  \\\n",
       "0      52    1   0       125   212    0        1      168      0      1.0   \n",
       "1      53    1   0       140   203    1        0      155      1      3.1   \n",
       "2      70    1   0       145   174    0        1      125      1      2.6   \n",
       "3      61    1   0       148   203    0        1      161      0      0.0   \n",
       "4      62    0   0       138   294    1        1      106      0      1.9   \n",
       "...   ...  ...  ..       ...   ...  ...      ...      ...    ...      ...   \n",
       "1020   59    1   1       140   221    0        1      164      1      0.0   \n",
       "1021   60    1   0       125   258    0        0      141      1      2.8   \n",
       "1022   47    1   0       110   275    0        0      118      1      1.0   \n",
       "1023   50    0   0       110   254    0        0      159      0      0.0   \n",
       "1024   54    1   0       120   188    0        1      113      0      1.4   \n",
       "\n",
       "      slope  ca  thal  target  \n",
       "0         2   2     3       0  \n",
       "1         0   0     3       0  \n",
       "2         0   0     3       0  \n",
       "3         2   1     3       0  \n",
       "4         1   3     2       0  \n",
       "...     ...  ..   ...     ...  \n",
       "1020      2   0     2       1  \n",
       "1021      1   1     3       0  \n",
       "1022      1   1     2       0  \n",
       "1023      2   0     2       1  \n",
       "1024      1   1     3       0  \n",
       "\n",
       "[1025 rows x 14 columns]"
      ]
     },
     "execution_count": 2,
     "metadata": {},
     "output_type": "execute_result"
    }
   ],
   "source": [
    "#Extracting csv data set from system using pandas lib\n",
    "\n",
    "data=pd.read_csv('C:/Users/Saee/Downloads/Heart Disease data.csv')\n",
    "data"
   ]
  },
  {
   "cell_type": "code",
   "execution_count": 3,
   "id": "1d4103af-d62c-4317-978a-3a79e562f8cf",
   "metadata": {},
   "outputs": [
    {
     "data": {
      "text/plain": [
       "Index(['age', 'sex', 'cp', 'trestbps', 'chol', 'fbs', 'restecg', 'thalach',\n",
       "       'exang', 'oldpeak', 'slope', 'ca', 'thal', 'target'],\n",
       "      dtype='object')"
      ]
     },
     "execution_count": 3,
     "metadata": {},
     "output_type": "execute_result"
    }
   ],
   "source": [
    "#All columns in a data set\n",
    "\n",
    "data.columns"
   ]
  },
  {
   "cell_type": "markdown",
   "id": "378df879-92b2-41bc-8c67-b28b804c31ef",
   "metadata": {},
   "source": [
    "There are thirteen features in Dataset\r\n",
    "\r\n",
    "age: The person's age in years\r\n",
    "\r\n",
    "sex:the person's sex(1=male,0=female)\r\n",
    "\r\n",
    "cp:the chest pain experience (Value 1:typical angina ,value 2:atypical angina ,Value 3:non-anginal pain,Value 4:asymptomatic)\r\n",
    "\r\n",
    "trestbps:the person's resting blood pressure(mm Hg on admission to the Hospital)\r\n",
    "\r\n",
    "chol:the person's cholesterol measurement in mg/dl\r\n",
    "\r\n",
    "fbs:the persons fasting blood sugar(>120 mg /dl,1=true ;0=false)\r\n",
    "\r\n",
    "restecg:resting electrocardiographic measurements(0=norma;l,1=having ST-T wave abnormality,2=showing probable or definite left ventricular hetrophy by Estes' criteria)\r\n",
    "\r\n",
    "thalach:The person's maximum heart rate achieved\r\n",
    "\r\n",
    "exang:Exercise induced angina (1=yes ,0=no)\r\n",
    "\r\n",
    "oldpeak: ST depression induced by exercise relative to rest\r\n",
    "\r\n",
    "slope:the slope of peak exercise ST segment(Value 1=upsloping ,value 2= flat, value 3=downsloping\r\n",
    "\r\n",
    "ca:the numb\n",
    "\n",
    "thal:A blood disorder called thalassemia (0=normal,1=fixed detected,2=reversable detect)\r\n",
    "\r\n",
    "target:heart disease (0=no ,1= yes)er of major vessels(0-3)"
   ]
  },
  {
   "cell_type": "code",
   "execution_count": 5,
   "id": "abdfc516-5a29-4b05-9aa3-63b77fb37e5a",
   "metadata": {},
   "outputs": [
    {
     "data": {
      "text/plain": [
       "age         0\n",
       "sex         0\n",
       "cp          0\n",
       "trestbps    0\n",
       "chol        0\n",
       "fbs         0\n",
       "restecg     0\n",
       "thalach     0\n",
       "exang       0\n",
       "oldpeak     0\n",
       "slope       0\n",
       "ca          0\n",
       "thal        0\n",
       "target      0\n",
       "dtype: int64"
      ]
     },
     "execution_count": 5,
     "metadata": {},
     "output_type": "execute_result"
    }
   ],
   "source": [
    "#checking null values\n",
    "data.isnull().sum()"
   ]
  },
  {
   "cell_type": "markdown",
   "id": "f9981a3f-948b-4f81-87a3-489bbdad16f5",
   "metadata": {},
   "source": [
    "THERE IS NO MISSING VALUES IN OUR DATASET"
   ]
  },
  {
   "cell_type": "markdown",
   "id": "8ffb59e2-1e03-4d70-8cc2-c6841052df8d",
   "metadata": {},
   "source": [
    "***Percentage of people having Heart Disease***"
   ]
  },
  {
   "cell_type": "code",
   "execution_count": 8,
   "id": "d551ef61-3d24-4bea-acdd-c4ca2e1f4e49",
   "metadata": {},
   "outputs": [
    {
     "data": {
      "text/plain": [
       "target\n",
       "0    499\n",
       "1    526\n",
       "dtype: int64"
      ]
     },
     "execution_count": 8,
     "metadata": {},
     "output_type": "execute_result"
    }
   ],
   "source": [
    "target=data.groupby('target').size()\n",
    "target"
   ]
  },
  {
   "cell_type": "code",
   "execution_count": 9,
   "id": "2fba1c3a-c320-4174-ad4e-c9cc8ffffa20",
   "metadata": {},
   "outputs": [],
   "source": [
    "#Converting numerical data into categorical data\n",
    "\n",
    "def heartdisease(row):\n",
    "    if row==0:\n",
    "        return'absence'\n",
    "    elif row==1:\n",
    "        return'presence'"
   ]
  },
  {
   "cell_type": "code",
   "execution_count": 10,
   "id": "85016a58-4cfe-4663-8c97-c58750d0e673",
   "metadata": {},
   "outputs": [
    {
     "data": {
      "text/plain": [
       "<bound method NDFrame.head of       age  sex  cp  trestbps  chol  fbs  restecg  thalach  exang  oldpeak  \\\n",
       "0      52    1   0       125   212    0        1      168      0      1.0   \n",
       "1      53    1   0       140   203    1        0      155      1      3.1   \n",
       "2      70    1   0       145   174    0        1      125      1      2.6   \n",
       "3      61    1   0       148   203    0        1      161      0      0.0   \n",
       "4      62    0   0       138   294    1        1      106      0      1.9   \n",
       "...   ...  ...  ..       ...   ...  ...      ...      ...    ...      ...   \n",
       "1020   59    1   1       140   221    0        1      164      1      0.0   \n",
       "1021   60    1   0       125   258    0        0      141      1      2.8   \n",
       "1022   47    1   0       110   275    0        0      118      1      1.0   \n",
       "1023   50    0   0       110   254    0        0      159      0      0.0   \n",
       "1024   54    1   0       120   188    0        1      113      0      1.4   \n",
       "\n",
       "      slope  ca  thal  target Heart_Disease  \n",
       "0         2   2     3       0       absence  \n",
       "1         0   0     3       0       absence  \n",
       "2         0   0     3       0       absence  \n",
       "3         2   1     3       0       absence  \n",
       "4         1   3     2       0       absence  \n",
       "...     ...  ..   ...     ...           ...  \n",
       "1020      2   0     2       1      presence  \n",
       "1021      1   1     3       0       absence  \n",
       "1022      1   1     2       0       absence  \n",
       "1023      2   0     2       1      presence  \n",
       "1024      1   1     3       0       absence  \n",
       "\n",
       "[1025 rows x 15 columns]>"
      ]
     },
     "execution_count": 10,
     "metadata": {},
     "output_type": "execute_result"
    }
   ],
   "source": [
    "#Applying converted data into our dataset with new column - heart disease\n",
    "\n",
    "data['Heart_Disease']=data['target'].apply(heartdisease)\n",
    "data.head"
   ]
  },
  {
   "cell_type": "code",
   "execution_count": 11,
   "id": "4f89c3d2-f31a-4ab2-b783-2bde5bedfadb",
   "metadata": {},
   "outputs": [
    {
     "data": {
      "text/plain": [
       "Heart_Disease\n",
       "absence     499\n",
       "presence    526\n",
       "Name: target, dtype: int64"
      ]
     },
     "execution_count": 11,
     "metadata": {},
     "output_type": "execute_result"
    }
   ],
   "source": [
    "hd=data.groupby('Heart_Disease')['target'].count()\n",
    "hd"
   ]
  },
  {
   "cell_type": "code",
   "execution_count": 12,
   "id": "5404b1ff-6eeb-4999-a8b3-ce754377535e",
   "metadata": {},
   "outputs": [
    {
     "data": {
      "image/png": "[encoded data removed]",
      "text/plain": [
       "<Figure size 1000x700 with 1 Axes>"
      ]
     },
     "metadata": {},
     "output_type": "display_data"
    }
   ],
   "source": [
    "#Pie chart of population having heart disease using matploptlib\n",
    "\n",
    "plt.figure(figsize=(10,7))\n",
    "plt.pie(hd,labels=['Absense','Presence'],autopct='%0.0f%%')\n",
    "plt.title('heart disease population %',fontsize=20)\n",
    "plt.show()"
   ]
  },
  {
   "cell_type": "markdown",
   "id": "81dc1a25-c137-428d-a856-f2164337be13",
   "metadata": {},
   "source": [
    "**From the overall population ,population having heart disease (51%) are higher than those who dont have heart disease(49%)** "
   ]
  },
  {
   "cell_type": "code",
   "execution_count": 14,
   "id": "c27e7183-b9e4-4b67-9fa2-7e4302b70bd4",
   "metadata": {},
   "outputs": [
    {
     "data": {
      "image/png": "[encoded data removed]",
      "text/plain": [
       "<Figure size 1500x700 with 1 Axes>"
      ]
     },
     "metadata": {},
     "output_type": "display_data"
    }
   ],
   "source": [
    "#countplot creation of population age using matplotlib and seaborn \n",
    "\n",
    "plt.figure(figsize=(15,7))\n",
    "sns.countplot(x='age',data=data)\n",
    "plt.title('Population age ',fontsize=17)\n",
    "plt.xlabel('Age',fontsize=15)\n",
    "plt.ylabel('Count',fontsize=15)\n",
    "plt.show()"
   ]
  },
  {
   "cell_type": "code",
   "execution_count": 15,
   "id": "5de7a022-74ef-4fb9-9da6-e154102db5f6",
   "metadata": {},
   "outputs": [
    {
     "name": "stdout",
     "output_type": "stream",
     "text": [
      "Minimum Age= 29\n",
      "Maximum Age= 77\n",
      "Mean Age= 54.43414634146342\n"
     ]
    }
   ],
   "source": [
    "#Statistical Analysis\n",
    "\n",
    "Min_Age=data['age'].min()\n",
    "Max_Age=data['age'].max()\n",
    "Mean_Age=data['age'].mean()\n",
    "print(\"Minimum Age=\",Min_Age)\n",
    "print(\"Maximum Age=\",Max_Age)\n",
    "print(\"Mean Age=\",Mean_Age)"
   ]
  },
  {
   "cell_type": "code",
   "execution_count": 16,
   "id": "8be5d3b1-2f3b-48b6-a050-cd627cecee48",
   "metadata": {},
   "outputs": [
    {
     "name": "stdout",
     "output_type": "stream",
     "text": [
      "Young ages= 53\n",
      "Middle ages= 419\n",
      "Elderly ages= 519\n"
     ]
    }
   ],
   "source": [
    "#categorical Analysis\n",
    "\n",
    "Young_Ages=data[(data['age']>29)&(data['age']<40)]\n",
    "Middle_Ages=data[(data['age']>=40)&(data['age']<55)]\n",
    "Elderly_Ages=data[(data['age']>55)]\n",
    "print('Young ages=',len(Young_Ages))\n",
    "print('Middle ages=',len(Middle_Ages))\n",
    "print('Elderly ages=',len(Elderly_Ages))\n",
    "\n",
    "                                   "
   ]
  },
  {
   "cell_type": "code",
   "execution_count": 17,
   "id": "2d05f7a0-39c2-4138-ac4a-a6f1daf79715",
   "metadata": {},
   "outputs": [],
   "source": [
    "#Converting numerical data into categorical data\n",
    "\n",
    "def gender(row):\n",
    "    if row==1:\n",
    "        return'male'\n",
    "    elif row==0:\n",
    "        return'female'"
   ]
  },
  {
   "cell_type": "code",
   "execution_count": 18,
   "id": "cbc64989-acdb-4650-95ee-6d2b38791b71",
   "metadata": {},
   "outputs": [
    {
     "data": {
      "text/plain": [
       "<bound method NDFrame.head of       age  sex  cp  trestbps  chol  fbs  restecg  thalach  exang  oldpeak  \\\n",
       "0      52    1   0       125   212    0        1      168      0      1.0   \n",
       "1      53    1   0       140   203    1        0      155      1      3.1   \n",
       "2      70    1   0       145   174    0        1      125      1      2.6   \n",
       "3      61    1   0       148   203    0        1      161      0      0.0   \n",
       "4      62    0   0       138   294    1        1      106      0      1.9   \n",
       "...   ...  ...  ..       ...   ...  ...      ...      ...    ...      ...   \n",
       "1020   59    1   1       140   221    0        1      164      1      0.0   \n",
       "1021   60    1   0       125   258    0        0      141      1      2.8   \n",
       "1022   47    1   0       110   275    0        0      118      1      1.0   \n",
       "1023   50    0   0       110   254    0        0      159      0      0.0   \n",
       "1024   54    1   0       120   188    0        1      113      0      1.4   \n",
       "\n",
       "      slope  ca  thal  target Heart_Disease    sex1  \n",
       "0         2   2     3       0       absence    male  \n",
       "1         0   0     3       0       absence    male  \n",
       "2         0   0     3       0       absence    male  \n",
       "3         2   1     3       0       absence    male  \n",
       "4         1   3     2       0       absence  female  \n",
       "...     ...  ..   ...     ...           ...     ...  \n",
       "1020      2   0     2       1      presence    male  \n",
       "1021      1   1     3       0       absence    male  \n",
       "1022      1   1     2       0       absence    male  \n",
       "1023      2   0     2       1      presence  female  \n",
       "1024      1   1     3       0       absence    male  \n",
       "\n",
       "[1025 rows x 16 columns]>"
      ]
     },
     "execution_count": 18,
     "metadata": {},
     "output_type": "execute_result"
    }
   ],
   "source": [
    "#Applying converted data into our dataset with new column - sex1\n",
    "\n",
    "data['sex1']=data['sex'].apply(gender)\n",
    "data.head"
   ]
  },
  {
   "cell_type": "code",
   "execution_count": 19,
   "id": "f20fbb8c-2b65-4e48-9605-dbe0e087fa3c",
   "metadata": {},
   "outputs": [],
   "source": [
    "#Converting numerical data into categorical data\n",
    "\n",
    "def age_range(row):\n",
    "    if row>=29 and row<40:\n",
    "        return'Young Age'\n",
    "    elif row>=40 and row<55:\n",
    "        return'Middle Age'\n",
    "    elif row>55:\n",
    "        return'Elder Age'"
   ]
  },
  {
   "cell_type": "code",
   "execution_count": 20,
   "id": "647f2f19-df51-4b4d-95db-9515af8c5082",
   "metadata": {},
   "outputs": [
    {
     "data": {
      "text/html": [
       "<div>\n",
       "<style scoped>\n",
       "    .dataframe tbody tr th:only-of-type {\n",
       "        vertical-align: middle;\n",
       "    }\n",
       "\n",
       "    .dataframe tbody tr th {\n",
       "        vertical-align: top;\n",
       "    }\n",
       "\n",
       "    .dataframe thead th {\n",
       "        text-align: right;\n",
       "    }\n",
       "</style>\n",
       "<table border=\"1\" class=\"dataframe\">\n",
       "  <thead>\n",
       "    <tr style=\"text-align: right;\">\n",
       "      <th></th>\n",
       "      <th>age</th>\n",
       "      <th>sex</th>\n",
       "      <th>cp</th>\n",
       "      <th>trestbps</th>\n",
       "      <th>chol</th>\n",
       "      <th>fbs</th>\n",
       "      <th>restecg</th>\n",
       "      <th>thalach</th>\n",
       "      <th>exang</th>\n",
       "      <th>oldpeak</th>\n",
       "      <th>slope</th>\n",
       "      <th>ca</th>\n",
       "      <th>thal</th>\n",
       "      <th>target</th>\n",
       "      <th>Heart_Disease</th>\n",
       "      <th>sex1</th>\n",
       "      <th>Age_Range</th>\n",
       "    </tr>\n",
       "  </thead>\n",
       "  <tbody>\n",
       "    <tr>\n",
       "      <th>0</th>\n",
       "      <td>52</td>\n",
       "      <td>1</td>\n",
       "      <td>0</td>\n",
       "      <td>125</td>\n",
       "      <td>212</td>\n",
       "      <td>0</td>\n",
       "      <td>1</td>\n",
       "      <td>168</td>\n",
       "      <td>0</td>\n",
       "      <td>1.0</td>\n",
       "      <td>2</td>\n",
       "      <td>2</td>\n",
       "      <td>3</td>\n",
       "      <td>0</td>\n",
       "      <td>absence</td>\n",
       "      <td>male</td>\n",
       "      <td>Middle Age</td>\n",
       "    </tr>\n",
       "    <tr>\n",
       "      <th>1</th>\n",
       "      <td>53</td>\n",
       "      <td>1</td>\n",
       "      <td>0</td>\n",
       "      <td>140</td>\n",
       "      <td>203</td>\n",
       "      <td>1</td>\n",
       "      <td>0</td>\n",
       "      <td>155</td>\n",
       "      <td>1</td>\n",
       "      <td>3.1</td>\n",
       "      <td>0</td>\n",
       "      <td>0</td>\n",
       "      <td>3</td>\n",
       "      <td>0</td>\n",
       "      <td>absence</td>\n",
       "      <td>male</td>\n",
       "      <td>Middle Age</td>\n",
       "    </tr>\n",
       "    <tr>\n",
       "      <th>2</th>\n",
       "      <td>70</td>\n",
       "      <td>1</td>\n",
       "      <td>0</td>\n",
       "      <td>145</td>\n",
       "      <td>174</td>\n",
       "      <td>0</td>\n",
       "      <td>1</td>\n",
       "      <td>125</td>\n",
       "      <td>1</td>\n",
       "      <td>2.6</td>\n",
       "      <td>0</td>\n",
       "      <td>0</td>\n",
       "      <td>3</td>\n",
       "      <td>0</td>\n",
       "      <td>absence</td>\n",
       "      <td>male</td>\n",
       "      <td>Elder Age</td>\n",
       "    </tr>\n",
       "    <tr>\n",
       "      <th>3</th>\n",
       "      <td>61</td>\n",
       "      <td>1</td>\n",
       "      <td>0</td>\n",
       "      <td>148</td>\n",
       "      <td>203</td>\n",
       "      <td>0</td>\n",
       "      <td>1</td>\n",
       "      <td>161</td>\n",
       "      <td>0</td>\n",
       "      <td>0.0</td>\n",
       "      <td>2</td>\n",
       "      <td>1</td>\n",
       "      <td>3</td>\n",
       "      <td>0</td>\n",
       "      <td>absence</td>\n",
       "      <td>male</td>\n",
       "      <td>Elder Age</td>\n",
       "    </tr>\n",
       "    <tr>\n",
       "      <th>4</th>\n",
       "      <td>62</td>\n",
       "      <td>0</td>\n",
       "      <td>0</td>\n",
       "      <td>138</td>\n",
       "      <td>294</td>\n",
       "      <td>1</td>\n",
       "      <td>1</td>\n",
       "      <td>106</td>\n",
       "      <td>0</td>\n",
       "      <td>1.9</td>\n",
       "      <td>1</td>\n",
       "      <td>3</td>\n",
       "      <td>2</td>\n",
       "      <td>0</td>\n",
       "      <td>absence</td>\n",
       "      <td>female</td>\n",
       "      <td>Elder Age</td>\n",
       "    </tr>\n",
       "  </tbody>\n",
       "</table>\n",
       "</div>"
      ],
      "text/plain": [
       "   age  sex  cp  trestbps  chol  fbs  restecg  thalach  exang  oldpeak  slope  \\\n",
       "0   52    1   0       125   212    0        1      168      0      1.0      2   \n",
       "1   53    1   0       140   203    1        0      155      1      3.1      0   \n",
       "2   70    1   0       145   174    0        1      125      1      2.6      0   \n",
       "3   61    1   0       148   203    0        1      161      0      0.0      2   \n",
       "4   62    0   0       138   294    1        1      106      0      1.9      1   \n",
       "\n",
       "   ca  thal  target Heart_Disease    sex1   Age_Range  \n",
       "0   2     3       0       absence    male  Middle Age  \n",
       "1   0     3       0       absence    male  Middle Age  \n",
       "2   0     3       0       absence    male   Elder Age  \n",
       "3   1     3       0       absence    male   Elder Age  \n",
       "4   3     2       0       absence  female   Elder Age  "
      ]
     },
     "execution_count": 20,
     "metadata": {},
     "output_type": "execute_result"
    }
   ],
   "source": [
    "#Applying converted data into our dataset with new column - Age_Range\n",
    "\n",
    "data['Age_Range']=data['age'].apply(age_range)\n",
    "data.head()"
   ]
  },
  {
   "cell_type": "code",
   "execution_count": 21,
   "id": "053ad860-16a9-42fb-94f9-2aed9d01ee0e",
   "metadata": {},
   "outputs": [
    {
     "ename": "ValueError",
     "evalue": "'Orange_r' is not a valid palette name",
     "output_type": "error",
     "traceback": [
      "\u001b[1;31m---------------------------------------------------------------------------\u001b[0m",
      "\u001b[1;31mKeyError\u001b[0m                                  Traceback (most recent call last)",
      "File \u001b[1;32m~\\.conda\\python\\Lib\\site-packages\\seaborn\\palettes.py:235\u001b[0m, in \u001b[0;36mcolor_palette\u001b[1;34m(palette, n_colors, desat, as_cmap)\u001b[0m\n\u001b[0;32m    233\u001b[0m \u001b[38;5;28;01mtry\u001b[39;00m:\n\u001b[0;32m    234\u001b[0m     \u001b[38;5;66;03m# Perhaps a named matplotlib colormap?\u001b[39;00m\n\u001b[1;32m--> 235\u001b[0m     palette \u001b[38;5;241m=\u001b[39m mpl_palette(palette, n_colors, as_cmap\u001b[38;5;241m=\u001b[39mas_cmap)\n\u001b[0;32m    236\u001b[0m \u001b[38;5;28;01mexcept\u001b[39;00m (\u001b[38;5;167;01mValueError\u001b[39;00m, \u001b[38;5;167;01mKeyError\u001b[39;00m):  \u001b[38;5;66;03m# Error class changed in mpl36\u001b[39;00m\n",
      "File \u001b[1;32m~\\.conda\\python\\Lib\\site-packages\\seaborn\\palettes.py:406\u001b[0m, in \u001b[0;36mmpl_palette\u001b[1;34m(name, n_colors, as_cmap)\u001b[0m\n\u001b[0;32m    405\u001b[0m \u001b[38;5;28;01melse\u001b[39;00m:\n\u001b[1;32m--> 406\u001b[0m     cmap \u001b[38;5;241m=\u001b[39m get_colormap(name)\n\u001b[0;32m    408\u001b[0m \u001b[38;5;28;01mif\u001b[39;00m name \u001b[38;5;129;01min\u001b[39;00m MPL_QUAL_PALS:\n",
      "File \u001b[1;32m~\\.conda\\python\\Lib\\site-packages\\seaborn\\_compat.py:133\u001b[0m, in \u001b[0;36mget_colormap\u001b[1;34m(name)\u001b[0m\n\u001b[0;32m    132\u001b[0m \u001b[38;5;28;01mtry\u001b[39;00m:\n\u001b[1;32m--> 133\u001b[0m     \u001b[38;5;28;01mreturn\u001b[39;00m mpl\u001b[38;5;241m.\u001b[39mcolormaps[name]\n\u001b[0;32m    134\u001b[0m \u001b[38;5;28;01mexcept\u001b[39;00m \u001b[38;5;167;01mAttributeError\u001b[39;00m:\n",
      "File \u001b[1;32m~\\.conda\\python\\Lib\\site-packages\\matplotlib\\cm.py:88\u001b[0m, in \u001b[0;36mColormapRegistry.__getitem__\u001b[1;34m(self, item)\u001b[0m\n\u001b[0;32m     87\u001b[0m \u001b[38;5;28;01mexcept\u001b[39;00m \u001b[38;5;167;01mKeyError\u001b[39;00m:\n\u001b[1;32m---> 88\u001b[0m     \u001b[38;5;28;01mraise\u001b[39;00m \u001b[38;5;167;01mKeyError\u001b[39;00m(\u001b[38;5;124mf\u001b[39m\u001b[38;5;124m\"\u001b[39m\u001b[38;5;132;01m{\u001b[39;00mitem\u001b[38;5;132;01m!r}\u001b[39;00m\u001b[38;5;124m is not a known colormap name\u001b[39m\u001b[38;5;124m\"\u001b[39m) \u001b[38;5;28;01mfrom\u001b[39;00m \u001b[38;5;28;01mNone\u001b[39;00m\n",
      "\u001b[1;31mKeyError\u001b[0m: \"'Orange_r' is not a known colormap name\"",
      "\nDuring handling of the above exception, another exception occurred:\n",
      "\u001b[1;31mValueError\u001b[0m                                Traceback (most recent call last)",
      "Cell \u001b[1;32mIn[21], line 4\u001b[0m\n\u001b[0;32m      1\u001b[0m \u001b[38;5;66;03m#swarm plot creation of gender based age category using matplotlib and seaborn \u001b[39;00m\n\u001b[0;32m      3\u001b[0m plt\u001b[38;5;241m.\u001b[39mfigure(figsize\u001b[38;5;241m=\u001b[39m(\u001b[38;5;241m10\u001b[39m,\u001b[38;5;241m7\u001b[39m))\n\u001b[1;32m----> 4\u001b[0m sns\u001b[38;5;241m.\u001b[39mswarmplot(x\u001b[38;5;241m=\u001b[39m\u001b[38;5;124m'\u001b[39m\u001b[38;5;124mAge_Range\u001b[39m\u001b[38;5;124m'\u001b[39m,y\u001b[38;5;241m=\u001b[39m\u001b[38;5;124m'\u001b[39m\u001b[38;5;124mage\u001b[39m\u001b[38;5;124m'\u001b[39m,hue\u001b[38;5;241m=\u001b[39m\u001b[38;5;124m'\u001b[39m\u001b[38;5;124msex1\u001b[39m\u001b[38;5;124m'\u001b[39m,data\u001b[38;5;241m=\u001b[39mdata,order\u001b[38;5;241m=\u001b[39m[\u001b[38;5;124m'\u001b[39m\u001b[38;5;124mYoung Age\u001b[39m\u001b[38;5;124m'\u001b[39m,\u001b[38;5;124m'\u001b[39m\u001b[38;5;124mMiddle Age\u001b[39m\u001b[38;5;124m'\u001b[39m,\u001b[38;5;124m'\u001b[39m\u001b[38;5;124mElder Age\u001b[39m\u001b[38;5;124m'\u001b[39m],palette\u001b[38;5;241m=\u001b[39m\u001b[38;5;124m'\u001b[39m\u001b[38;5;124mOrange_r\u001b[39m\u001b[38;5;124m'\u001b[39m)\n\u001b[0;32m      5\u001b[0m plt\u001b[38;5;241m.\u001b[39mtitle(\u001b[38;5;124m'\u001b[39m\u001b[38;5;124mGender Based Age Category\u001b[39m\u001b[38;5;124m'\u001b[39m,fontsize\u001b[38;5;241m=\u001b[39m\u001b[38;5;241m17\u001b[39m)\n\u001b[0;32m      6\u001b[0m plt\u001b[38;5;241m.\u001b[39mxlabel(\u001b[38;5;124m'\u001b[39m\u001b[38;5;124mAge Category\u001b[39m\u001b[38;5;124m'\u001b[39m,fontsize\u001b[38;5;241m=\u001b[39m\u001b[38;5;241m15\u001b[39m)\n",
      "File \u001b[1;32m~\\.conda\\python\\Lib\\site-packages\\seaborn\\categorical.py:2650\u001b[0m, in \u001b[0;36mswarmplot\u001b[1;34m(data, x, y, hue, order, hue_order, dodge, orient, color, palette, size, edgecolor, linewidth, hue_norm, native_scale, formatter, legend, warn_thresh, ax, **kwargs)\u001b[0m\n\u001b[0;32m   2646\u001b[0m palette, hue_order \u001b[38;5;241m=\u001b[39m p\u001b[38;5;241m.\u001b[39m_hue_backcompat(color, palette, hue_order)\n\u001b[0;32m   2648\u001b[0m color \u001b[38;5;241m=\u001b[39m _default_color(ax\u001b[38;5;241m.\u001b[39mscatter, hue, color, kwargs)\n\u001b[1;32m-> 2650\u001b[0m p\u001b[38;5;241m.\u001b[39mmap_hue(palette\u001b[38;5;241m=\u001b[39mpalette, order\u001b[38;5;241m=\u001b[39mhue_order, norm\u001b[38;5;241m=\u001b[39mhue_norm)\n\u001b[0;32m   2652\u001b[0m \u001b[38;5;66;03m# XXX Copying possibly bad default decisions from original code for now\u001b[39;00m\n\u001b[0;32m   2653\u001b[0m kwargs\u001b[38;5;241m.\u001b[39msetdefault(\u001b[38;5;124m\"\u001b[39m\u001b[38;5;124mzorder\u001b[39m\u001b[38;5;124m\"\u001b[39m, \u001b[38;5;241m3\u001b[39m)\n",
      "File \u001b[1;32m~\\.conda\\python\\Lib\\site-packages\\seaborn\\_oldcore.py:55\u001b[0m, in \u001b[0;36mSemanticMapping.map\u001b[1;34m(cls, plotter, *args, **kwargs)\u001b[0m\n\u001b[0;32m     52\u001b[0m \u001b[38;5;28;01mdef\u001b[39;00m \u001b[38;5;21mmap\u001b[39m(\u001b[38;5;28mcls\u001b[39m, plotter, \u001b[38;5;241m*\u001b[39margs, \u001b[38;5;241m*\u001b[39m\u001b[38;5;241m*\u001b[39mkwargs):\n\u001b[0;32m     53\u001b[0m     \u001b[38;5;66;03m# This method is assigned the __init__ docstring\u001b[39;00m\n\u001b[0;32m     54\u001b[0m     method_name \u001b[38;5;241m=\u001b[39m \u001b[38;5;124mf\u001b[39m\u001b[38;5;124m\"\u001b[39m\u001b[38;5;124m_\u001b[39m\u001b[38;5;132;01m{\u001b[39;00m\u001b[38;5;28mcls\u001b[39m\u001b[38;5;241m.\u001b[39m\u001b[38;5;18m__name__\u001b[39m[:\u001b[38;5;241m-\u001b[39m\u001b[38;5;241m7\u001b[39m]\u001b[38;5;241m.\u001b[39mlower()\u001b[38;5;132;01m}\u001b[39;00m\u001b[38;5;124m_map\u001b[39m\u001b[38;5;124m\"\u001b[39m\n\u001b[1;32m---> 55\u001b[0m     \u001b[38;5;28msetattr\u001b[39m(plotter, method_name, \u001b[38;5;28mcls\u001b[39m(plotter, \u001b[38;5;241m*\u001b[39margs, \u001b[38;5;241m*\u001b[39m\u001b[38;5;241m*\u001b[39mkwargs))\n\u001b[0;32m     56\u001b[0m     \u001b[38;5;28;01mreturn\u001b[39;00m plotter\n",
      "File \u001b[1;32m~\\.conda\\python\\Lib\\site-packages\\seaborn\\_oldcore.py:148\u001b[0m, in \u001b[0;36mHueMapping.__init__\u001b[1;34m(self, plotter, palette, order, norm)\u001b[0m\n\u001b[0;32m    145\u001b[0m \u001b[38;5;28;01melif\u001b[39;00m map_type \u001b[38;5;241m==\u001b[39m \u001b[38;5;124m\"\u001b[39m\u001b[38;5;124mcategorical\u001b[39m\u001b[38;5;124m\"\u001b[39m:\n\u001b[0;32m    147\u001b[0m     cmap \u001b[38;5;241m=\u001b[39m norm \u001b[38;5;241m=\u001b[39m \u001b[38;5;28;01mNone\u001b[39;00m\n\u001b[1;32m--> 148\u001b[0m     levels, lookup_table \u001b[38;5;241m=\u001b[39m \u001b[38;5;28mself\u001b[39m\u001b[38;5;241m.\u001b[39mcategorical_mapping(\n\u001b[0;32m    149\u001b[0m         data, palette, order,\n\u001b[0;32m    150\u001b[0m     )\n\u001b[0;32m    152\u001b[0m \u001b[38;5;66;03m# --- Option 3: datetime mapping\u001b[39;00m\n\u001b[0;32m    153\u001b[0m \n\u001b[0;32m    154\u001b[0m \u001b[38;5;28;01melse\u001b[39;00m:\n\u001b[0;32m    155\u001b[0m     \u001b[38;5;66;03m# TODO this needs actual implementation\u001b[39;00m\n\u001b[0;32m    156\u001b[0m     cmap \u001b[38;5;241m=\u001b[39m norm \u001b[38;5;241m=\u001b[39m \u001b[38;5;28;01mNone\u001b[39;00m\n",
      "File \u001b[1;32m~\\.conda\\python\\Lib\\site-packages\\seaborn\\_oldcore.py:241\u001b[0m, in \u001b[0;36mHueMapping.categorical_mapping\u001b[1;34m(self, data, palette, order)\u001b[0m\n\u001b[0;32m    239\u001b[0m         colors \u001b[38;5;241m=\u001b[39m \u001b[38;5;28mself\u001b[39m\u001b[38;5;241m.\u001b[39m_check_list_length(levels, palette, \u001b[38;5;124m\"\u001b[39m\u001b[38;5;124mpalette\u001b[39m\u001b[38;5;124m\"\u001b[39m)\n\u001b[0;32m    240\u001b[0m     \u001b[38;5;28;01melse\u001b[39;00m:\n\u001b[1;32m--> 241\u001b[0m         colors \u001b[38;5;241m=\u001b[39m color_palette(palette, n_colors)\n\u001b[0;32m    243\u001b[0m     lookup_table \u001b[38;5;241m=\u001b[39m \u001b[38;5;28mdict\u001b[39m(\u001b[38;5;28mzip\u001b[39m(levels, colors))\n\u001b[0;32m    245\u001b[0m \u001b[38;5;28;01mreturn\u001b[39;00m levels, lookup_table\n",
      "File \u001b[1;32m~\\.conda\\python\\Lib\\site-packages\\seaborn\\palettes.py:237\u001b[0m, in \u001b[0;36mcolor_palette\u001b[1;34m(palette, n_colors, desat, as_cmap)\u001b[0m\n\u001b[0;32m    235\u001b[0m             palette \u001b[38;5;241m=\u001b[39m mpl_palette(palette, n_colors, as_cmap\u001b[38;5;241m=\u001b[39mas_cmap)\n\u001b[0;32m    236\u001b[0m         \u001b[38;5;28;01mexcept\u001b[39;00m (\u001b[38;5;167;01mValueError\u001b[39;00m, \u001b[38;5;167;01mKeyError\u001b[39;00m):  \u001b[38;5;66;03m# Error class changed in mpl36\u001b[39;00m\n\u001b[1;32m--> 237\u001b[0m             \u001b[38;5;28;01mraise\u001b[39;00m \u001b[38;5;167;01mValueError\u001b[39;00m(\u001b[38;5;124mf\u001b[39m\u001b[38;5;124m\"\u001b[39m\u001b[38;5;132;01m{\u001b[39;00mpalette\u001b[38;5;132;01m!r}\u001b[39;00m\u001b[38;5;124m is not a valid palette name\u001b[39m\u001b[38;5;124m\"\u001b[39m)\n\u001b[0;32m    239\u001b[0m \u001b[38;5;28;01mif\u001b[39;00m desat \u001b[38;5;129;01mis\u001b[39;00m \u001b[38;5;129;01mnot\u001b[39;00m \u001b[38;5;28;01mNone\u001b[39;00m:\n\u001b[0;32m    240\u001b[0m     palette \u001b[38;5;241m=\u001b[39m [desaturate(c, desat) \u001b[38;5;28;01mfor\u001b[39;00m c \u001b[38;5;129;01min\u001b[39;00m palette]\n",
      "\u001b[1;31mValueError\u001b[0m: 'Orange_r' is not a valid palette name"
     ]
    },
    {
     "data": {
      "image/png": "[encoded data removed]",
      "text/plain": [
       "<Figure size 1000x700 with 1 Axes>"
      ]
     },
     "metadata": {},
     "output_type": "display_data"
    }
   ],
   "source": [
    "#swarm plot creation of gender based age category using matplotlib and seaborn \n",
    "\n",
    "plt.figure(figsize=(10,7))\n",
    "sns.swarmplot(x='Age_Range',y='age',hue='sex1',data=data,order=['Young Age','Middle Age','Elder Age'],palette='Orange_r')\n",
    "plt.title('Gender Based Age Category',fontsize=17)\n",
    "plt.xlabel('Age Category',fontsize=15)\n",
    "plt.ylabel('Age',fontsize=15)\n",
    "plt.show()"
   ]
  },
  {
   "cell_type": "code",
   "execution_count": null,
   "id": "ec92a156-708e-47f5-a4b7-d88b09292f48",
   "metadata": {},
   "outputs": [],
   "source": [
    "#count plot creation of heart disease based on age category using matplotlib and seaborn\n",
    "\n",
    "plt.figure(figsize=(7,5))\n",
    "hue_order=['Young Age','Middle Age','Elder Age']\n",
    "sns.countplot(x='Heart_Disease',hue='Age_Range',data=data,order=['Presence','Absence'],hue_order=hue_order,palette='pastel1_r')\n",
    "plt.xlabel('Heart Disease Based on Age Category',fontsize=15)\n",
    "plt.ylabel('Counts',fontsize=15)\n",
    "plt.show()\n",
    "              "
   ]
  },
  {
   "cell_type": "code",
   "execution_count": null,
   "id": "27afe53d-96a8-4e6f-9b85-298b2c623af7",
   "metadata": {},
   "outputs": [],
   "source": [
    "#count plot creation of heart disease based on age gender using matplotlib and seaborn\n",
    "\n",
    "plt.figure(figsize=(7,5))\n",
    "sns.countplot(x=data['Heart_Disease'],hue='sex1',data=data,palette='BuGn_r')\n",
    "plt.xlabel('Heart Disease ',fontsize=15)\n",
    "plt.ylabel('Counts',fontsize=15)\n",
    "plt.legend(labels=['Male','Female'])\n",
    "plt.title('heart disease based on gender',fontsize=17)\n",
    "plt.show()\n"
   ]
  },
  {
   "cell_type": "code",
   "execution_count": null,
   "id": "e48a6b8c-1415-4208-b42d-ae29b959b17b",
   "metadata": {},
   "outputs": [],
   "source": [
    "#count plot creation of chest pain experienced using matplotlib and seaborn\n",
    "\n",
    "sns.countplot(x=data['Heart_Disease'],hue='cp',data=data,order=['Presence','Absence'])\n",
    "plt.title('chest pain experienced',fontsize=17)\n",
    "plt.xlabel('Heart Disease ',fontsize=15)\n",
    "plt.ylabel('Counts',fontsize=15)\n",
    "plt.legend(labels=['Typical Angina','Atypical Angina ','Non-Anginal Pain ','Asymptomatic'])\n",
    "plt.show()\n",
    "\n",
    "\n",
    "\n",
    "\n",
    "\n"
   ]
  },
  {
   "cell_type": "code",
   "execution_count": null,
   "id": "bc2c5f13-d062-4962-95f8-73b4c46a09c0",
   "metadata": {},
   "outputs": [],
   "source": [
    "#count plot creation of chest pain based on gender using matplotlib and seaborn\n",
    "\n",
    "sns.countplot(x=data['sex1'],hue='cp',data=data)\n",
    "plt.title('chest pain based on gender',fontsize=17)\n",
    "plt.xlabel('Sex ',fontsize=15)\n",
    "plt.ylabel('Counts',fontsize=15)\n",
    "plt.legend(labels=['Typical Angina','Atypical Angina ','Non-Anginal Pain ','Asymptomatic'])\n",
    "plt.show()\n",
    "\n"
   ]
  },
  {
   "cell_type": "code",
   "execution_count": null,
   "id": "c61fdbc6-9f9c-4922-ae9e-61764c477065",
   "metadata": {},
   "outputs": [],
   "source": [
    "#barplot creation of  person's resting blood pressure(mmHg) using matplotlib and seaborn\n",
    "\n",
    "sns.barplot(x='sex1',y='trestbps',data=data,palette='plasma')\n",
    "plt.title(\"blood pressure\",fontsize=17)\n",
    "plt.xlabel('Sex',fontsize=15)\n",
    "plt.ylabel(\"Person's Resting blood pressure(mmHg)\",fontsize=12)\n",
    "plt.show()\n",
    "\n"
   ]
  },
  {
   "cell_type": "code",
   "execution_count": null,
   "id": "cf3e2981-addc-4096-80ca-2d463fa91486",
   "metadata": {},
   "outputs": [],
   "source": [
    "#barplot creation of  Cholestrol level based on gender  using matplotlib and seaborn\n",
    "\n",
    "sns.barplot(x='sex1',y='chol',data=data,palette='turbo')\n",
    "plt.title(\"Cholestrol level based on gender\",fontsize=17)\n",
    "plt.xlabel('Sex',fontsize=15)\n",
    "plt.ylabel(\"Cholestrol\",fontsize=15)\n",
    "plt.show()\n"
   ]
  },
  {
   "cell_type": "code",
   "execution_count": null,
   "id": "e33f68b2-5ce0-43ec-bbf1-118f64334e58",
   "metadata": {},
   "outputs": [],
   "source": [
    "#barplot creation of  cholestrol VS heart disease using matplotlib and seaborn\n",
    "\n",
    "sns.barplot(x='Heart_Disease',y='chol',data=data,colour='ocean_r')\n",
    "plt.title(\"cholestrol VS heart disease\",fontsize=17)\n",
    "plt.xlabel('Heart Disease',fontsize=15)\n",
    "plt.ylabel(\"Cholestrol\",fontsize=15)\n",
    "plt.show()\n"
   ]
  },
  {
   "cell_type": "code",
   "execution_count": null,
   "id": "fc257d26-6907-440c-846f-11bf07ce4e33",
   "metadata": {},
   "outputs": [],
   "source": [
    "#barplot creation of  Blood Pressure VS heart disease using matplotlib and seaborn\n",
    "\n",
    "sns.barplot(x='Heart_Disease',y='trestbps',data=data,colour='tab20b_r')\n",
    "plt.title(\"Blood Pressure VS heart disease\",fontsize=17)\n",
    "plt.xlabel('Heart Disease',fontsize=15)\n",
    "plt.ylabel(\"Blood Pressure\",fontsize=15)\n",
    "plt.show()"
   ]
  },
  {
   "cell_type": "code",
   "execution_count": null,
   "id": "58021c89-bf14-4afe-936e-743ab4abe3f4",
   "metadata": {},
   "outputs": [],
   "source": [
    "#lineplot creation of  Blood pressure VS Age using matplotlib and seaborn\n",
    "\n",
    "sns.lineplot(x='age',y='trestbps',data=data,colour='r')\n",
    "plt.title(\"Blood pressure VS Age\",fontsize=17)\n",
    "plt.xlabel('Age',fontsize=15)\n",
    "plt.ylabel(\"Blood pressure\",fontsize=15)\n",
    "plt.show()\n",
    "\n"
   ]
  },
  {
   "cell_type": "code",
   "execution_count": null,
   "id": "95eccadb-2307-4605-93b8-4cac9fac4e0e",
   "metadata": {},
   "outputs": [],
   "source": [
    "#lineplot creation of  cholestrol VS Age using matplotlib and seaborn\n",
    "\n",
    "sns.lineplot(x='age',y='trestbps',data=data,colour='b')\n",
    "plt.title(\"Cholestrol VS Age\",fontsize=17)\n",
    "plt.xlabel('Age',fontsize=15)\n",
    "plt.ylabel(\"Cholestrol\",fontsize=15)\n",
    "plt.show()"
   ]
  },
  {
   "cell_type": "code",
   "execution_count": null,
   "id": "554e0faf-21fa-4815-a5cc-763c3ef7e162",
   "metadata": {},
   "outputs": [],
   "source": [
    "#barplot creation of  ST depression VS heart disease using matplotlib and seaborn\n",
    "\n",
    "sns.barplot(x='sex1',y='oldpeak',data=data,palette='twilight_r')\n",
    "plt.title(\"ST depression VS heart disease\",fontsize=17)\n",
    "plt.xlabel('Sex',fontsize=15)\n",
    "plt.ylabel(\"ST depression\",fontsize=15)\n",
    "plt.show()"
   ]
  },
  {
   "cell_type": "code",
   "execution_count": null,
   "id": "fdd000d0-9031-4f85-bc1e-944e11841647",
   "metadata": {},
   "outputs": [],
   "source": [
    "#barplot creation of Exercise with angina VS heart disease using matplotlib and seaborn\n",
    "\n",
    "sns.barplot(x='Heart_Disease',y='exang',data=data,palette='virdis')\n",
    "plt.title(\"Exercise with angina VS heart disease\",fontsize=17)\n",
    "plt.xlabel('Heart Disease',fontsize=15)\n",
    "plt.ylabel(\"Exercise with angina \",fontsize=15)\n",
    "plt.show()"
   ]
  },
  {
   "cell_type": "code",
   "execution_count": null,
   "id": "89d98136-9135-4cc9-84dc-9093734c461c",
   "metadata": {},
   "outputs": [],
   "source": []
  }
 ],
 "metadata": {
  "kernelspec": {
   "display_name": "Python 3 (ipykernel)",
   "language": "python",
   "name": "python3"
  },
  "language_info": {
   "codemirror_mode": {
    "name": "ipython",
    "version": 3
   },
   "file_extension": ".py",
   "mimetype": "text/x-python",
   "name": "python",
   "nbconvert_exporter": "python",
   "pygments_lexer": "ipython3",
   "version": "3.11.7"
  }
 },
 "nbformat": 4,
 "nbformat_minor": 5
}
